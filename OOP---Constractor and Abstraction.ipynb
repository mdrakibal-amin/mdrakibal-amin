{
 "cells": [
  {
   "cell_type": "code",
   "execution_count": 4,
   "id": "dfd543b6",
   "metadata": {},
   "outputs": [],
   "source": [
    "class Student:\n",
    "    # attr(variable/scope/instance), functions(custom, builtin)\n",
    "    # attr\n",
    "    stuname = \"\"\n",
    "    studept = \"\"\n",
    "    stuid   = \"\"\n",
    "    \n",
    "    # function\n",
    "    # Constructor\n",
    "    \n",
    "    def __init__(self):\n",
    "        pass\n",
    "    \n",
    "    def getstuname(self):\n",
    "        return self.stuname\n",
    "    \n",
    "    def getstudept(self):\n",
    "        return self.studept\n",
    "    def getstuid(self):\n",
    "        return self.stuid\n",
    "    \n",
    "    def __str__(self):\n",
    "        return self.stuname+\" \"+self.studept+\" \"+self.stuid"
   ]
  },
  {
   "cell_type": "code",
   "execution_count": 5,
   "id": "cb0c14b5",
   "metadata": {},
   "outputs": [],
   "source": [
    "student = Student()"
   ]
  },
  {
   "cell_type": "code",
   "execution_count": 6,
   "id": "97bd1747",
   "metadata": {},
   "outputs": [],
   "source": [
    "student.stuname = \"Rakib Al-Amin\"\n",
    "student.studept = \"CSE\"\n",
    "student.stuid   =\"181-15-1771\""
   ]
  },
  {
   "cell_type": "code",
   "execution_count": 7,
   "id": "5181937c",
   "metadata": {},
   "outputs": [
    {
     "data": {
      "text/plain": [
       "('Rakib Al-Amin', 'CSE', '181-15-1771')"
      ]
     },
     "execution_count": 7,
     "metadata": {},
     "output_type": "execute_result"
    }
   ],
   "source": [
    "student.stuname, student.studept,student.stuid"
   ]
  },
  {
   "cell_type": "code",
   "execution_count": 9,
   "id": "a80f5d41",
   "metadata": {},
   "outputs": [
    {
     "name": "stdout",
     "output_type": "stream",
     "text": [
      "Rakib Al-Amin CSE 181-15-1771\n"
     ]
    }
   ],
   "source": [
    "print(student)"
   ]
  },
  {
   "cell_type": "code",
   "execution_count": 11,
   "id": "2ce3c089",
   "metadata": {},
   "outputs": [
    {
     "data": {
      "text/plain": [
       "('Rakib Al-Amin', 'CSE', '181-15-1771')"
      ]
     },
     "execution_count": 11,
     "metadata": {},
     "output_type": "execute_result"
    }
   ],
   "source": [
    "student.getstuname(),student.getstudept(),student.getstuid()"
   ]
  },
  {
   "cell_type": "markdown",
   "id": "7aa7f551",
   "metadata": {},
   "source": [
    "# Abstraction"
   ]
  },
  {
   "cell_type": "code",
   "execution_count": 22,
   "id": "d3990b7a",
   "metadata": {},
   "outputs": [],
   "source": [
    "from abc import ABC, abstractmethod\n",
    "\n",
    "class Student(ABC):\n",
    "\n",
    "    # class -> signeture\n",
    "\n",
    "    @abstractmethod\n",
    "    def get_stu_name(self):\n",
    "        pass\n",
    "\n",
    "    @abstractmethod\n",
    "    def set_stu_name(self, name):\n",
    "        pass\n",
    "\n",
    "    @abstractmethod\n",
    "    def get_stu_dept(self):\n",
    "        pass\n",
    "\n",
    "    @abstractmethod\n",
    "    def set_stu_dept(self, dept):\n",
    "        pass\n",
    "    \n",
    "    @abstractmethod\n",
    "    def get_stu_id(self):\n",
    "        pass\n",
    "\n",
    "    @abstractmethod\n",
    "    def set_stu_id(self, id):\n",
    "        pass"
   ]
  },
  {
   "cell_type": "code",
   "execution_count": 45,
   "id": "246a279c",
   "metadata": {},
   "outputs": [],
   "source": [
    "class StudentImpl(Student):\n",
    "    stu_name =\"\"\n",
    "    stu_dept =\"\"\n",
    "    stu_id   =\"\"\n",
    "    \n",
    "    def __init__(self,stu_name,stu_dept,stu_id ):\n",
    "        self.stu_name = stu_name\n",
    "        self.stu_dept = stu_dept\n",
    "        self.stu_id   = stu_id\n",
    "    \n",
    "    def get_stu_name(self):\n",
    "        return self.stu_name\n",
    "\n",
    "    \n",
    "    def set_stu_name(self, stu_name):\n",
    "        self.stu_name = stu_name\n",
    "        \n",
    "\n",
    "    \n",
    "    def get_stu_dept(self):\n",
    "        return self.stu_dept\n",
    "\n",
    "    \n",
    "    def set_stu_dept(self, stu_dept):\n",
    "        self.stu_dept = stu_dept\n",
    "    \n",
    "    \n",
    "    def get_stu_id(self):\n",
    "        return self.stu_id\n",
    "\n",
    "    \n",
    "    def set_stu_id(self, stu_id):\n",
    "        self.stu_id = stu_id\n",
    "    "
   ]
  },
  {
   "cell_type": "code",
   "execution_count": 47,
   "id": "86d23099",
   "metadata": {},
   "outputs": [],
   "source": [
    "student = StudentImpl( \"Rashed\" , \"BBA\" , \"191-11-20045\")"
   ]
  },
  {
   "cell_type": "code",
   "execution_count": 48,
   "id": "3c0b24a9",
   "metadata": {},
   "outputs": [
    {
     "data": {
      "text/plain": [
       "'Rashed'"
      ]
     },
     "execution_count": 48,
     "metadata": {},
     "output_type": "execute_result"
    }
   ],
   "source": [
    "student.get_stu_name()"
   ]
  },
  {
   "cell_type": "code",
   "execution_count": 49,
   "id": "9b1afa6a",
   "metadata": {},
   "outputs": [
    {
     "data": {
      "text/plain": [
       "'BBA'"
      ]
     },
     "execution_count": 49,
     "metadata": {},
     "output_type": "execute_result"
    }
   ],
   "source": [
    "student.get_stu_dept()"
   ]
  },
  {
   "cell_type": "code",
   "execution_count": 50,
   "id": "818376ca",
   "metadata": {},
   "outputs": [
    {
     "data": {
      "text/plain": [
       "'191-11-20045'"
      ]
     },
     "execution_count": 50,
     "metadata": {},
     "output_type": "execute_result"
    }
   ],
   "source": [
    "student.get_stu_id()"
   ]
  },
  {
   "cell_type": "code",
   "execution_count": 61,
   "id": "8c6fecf0",
   "metadata": {},
   "outputs": [],
   "source": [
    "class StudentImpl(Student):\n",
    "    stu_name =\"\"\n",
    "    stu_dept =\"\"\n",
    "    stu_id   =\"\"\n",
    "    \n",
    "    def __init__(self,stu_name,stu_dept,stu_id ):\n",
    "        self.stu_name = stu_name\n",
    "        self.stu_dept = stu_dept\n",
    "        self.stu_id   = stu_id\n",
    "    \n",
    "    def get_stu_name(self):\n",
    "        return self.stu_name\n",
    "\n",
    "    \n",
    "    def set_stu_name(self, stu_name):\n",
    "        self.stu_name = stu_name\n",
    "        \n",
    "\n",
    "    \n",
    "    def get_stu_dept(self):\n",
    "        return self.stu_dept\n",
    "\n",
    "    \n",
    "    def set_stu_dept(self, stu_dept):\n",
    "        self.stu_dept = stu_dept\n",
    "    \n",
    "    \n",
    "    def get_stu_id(self):\n",
    "        return self.stu_id\n",
    "\n",
    "    \n",
    "    def set_stu_id(self, stu_id):\n",
    "        self.stu_id = stu_id\n",
    "        \n",
    "    def __str__(self):\n",
    "        return self.stu_name+\" \"+self.stu_dept+\" \"+self.stu_id"
   ]
  },
  {
   "cell_type": "code",
   "execution_count": 63,
   "id": "e6b7b571",
   "metadata": {},
   "outputs": [],
   "source": [
    "student = StudentImpl( \"Rashed\" , \"BBA\" , \"191-11-20045\")"
   ]
  },
  {
   "cell_type": "code",
   "execution_count": 64,
   "id": "51722de2",
   "metadata": {},
   "outputs": [
    {
     "name": "stdout",
     "output_type": "stream",
     "text": [
      "Rashed BBA 191-11-20045\n"
     ]
    }
   ],
   "source": [
    "print(student)"
   ]
  },
  {
   "cell_type": "code",
   "execution_count": 55,
   "id": "7421c590",
   "metadata": {},
   "outputs": [
    {
     "data": {
      "text/plain": [
       "('191-11-20045', 'BBA', 'Rashed')"
      ]
     },
     "execution_count": 55,
     "metadata": {},
     "output_type": "execute_result"
    }
   ],
   "source": [
    "student.get_stu_id(),student.get_stu_dept(),student.get_stu_name()"
   ]
  },
  {
   "cell_type": "code",
   "execution_count": null,
   "id": "b5536edf",
   "metadata": {},
   "outputs": [],
   "source": []
  },
  {
   "cell_type": "code",
   "execution_count": null,
   "id": "6f54fb8e",
   "metadata": {},
   "outputs": [],
   "source": []
  }
 ],
 "metadata": {
  "kernelspec": {
   "display_name": "Python 3 (ipykernel)",
   "language": "python",
   "name": "python3"
  },
  "language_info": {
   "codemirror_mode": {
    "name": "ipython",
    "version": 3
   },
   "file_extension": ".py",
   "mimetype": "text/x-python",
   "name": "python",
   "nbconvert_exporter": "python",
   "pygments_lexer": "ipython3",
   "version": "3.9.7"
  }
 },
 "nbformat": 4,
 "nbformat_minor": 5
}
