{
 "cells": [
  {
   "cell_type": "markdown",
   "id": "98b90b02",
   "metadata": {},
   "source": [
    "# collections:"
   ]
  },
  {
   "cell_type": "markdown",
   "id": "7e852607",
   "metadata": {},
   "source": [
    "# list"
   ]
  },
  {
   "cell_type": "code",
   "execution_count": 7,
   "id": "2bb794cc",
   "metadata": {},
   "outputs": [],
   "source": [
    "l = []\n",
    "###l2 = list()"
   ]
  },
  {
   "cell_type": "code",
   "execution_count": 8,
   "id": "49917c9e",
   "metadata": {},
   "outputs": [
    {
     "data": {
      "text/plain": [
       "list"
      ]
     },
     "execution_count": 8,
     "metadata": {},
     "output_type": "execute_result"
    }
   ],
   "source": [
    "type(l)"
   ]
  },
  {
   "cell_type": "code",
   "execution_count": 9,
   "id": "02a67da0",
   "metadata": {},
   "outputs": [
    {
     "data": {
      "text/plain": [
       "list"
      ]
     },
     "execution_count": 9,
     "metadata": {},
     "output_type": "execute_result"
    }
   ],
   "source": [
    "type(l2)"
   ]
  },
  {
   "cell_type": "code",
   "execution_count": 10,
   "id": "e136e535",
   "metadata": {},
   "outputs": [],
   "source": [
    "l = [ 1.1,12.4, 2,4,5,8,8.99,\"True\",\"False\",\"4.5\",\"3.673\"]"
   ]
  },
  {
   "cell_type": "code",
   "execution_count": 11,
   "id": "5d197433",
   "metadata": {},
   "outputs": [
    {
     "data": {
      "text/plain": [
       "[1.1, 12.4, 2, 4, 5, 8, 8.99, 'True', 'False', '4.5', '3.673']"
      ]
     },
     "execution_count": 11,
     "metadata": {},
     "output_type": "execute_result"
    }
   ],
   "source": [
    "l"
   ]
  },
  {
   "cell_type": "markdown",
   "id": "5d94259e",
   "metadata": {},
   "source": [
    "# indexing"
   ]
  },
  {
   "cell_type": "code",
   "execution_count": 12,
   "id": "6b8cc260",
   "metadata": {},
   "outputs": [
    {
     "data": {
      "text/plain": [
       "1.1"
      ]
     },
     "execution_count": 12,
     "metadata": {},
     "output_type": "execute_result"
    }
   ],
   "source": [
    "l[0]"
   ]
  },
  {
   "cell_type": "code",
   "execution_count": 13,
   "id": "4cc25d8c",
   "metadata": {},
   "outputs": [
    {
     "data": {
      "text/plain": [
       "8"
      ]
     },
     "execution_count": 13,
     "metadata": {},
     "output_type": "execute_result"
    }
   ],
   "source": [
    "l[5]"
   ]
  },
  {
   "cell_type": "code",
   "execution_count": 14,
   "id": "35a6f68d",
   "metadata": {},
   "outputs": [
    {
     "data": {
      "text/plain": [
       "11"
      ]
     },
     "execution_count": 14,
     "metadata": {},
     "output_type": "execute_result"
    }
   ],
   "source": [
    "len(l)"
   ]
  },
  {
   "cell_type": "code",
   "execution_count": 15,
   "id": "5715bf67",
   "metadata": {},
   "outputs": [
    {
     "data": {
      "text/plain": [
       "'False'"
      ]
     },
     "execution_count": 15,
     "metadata": {},
     "output_type": "execute_result"
    }
   ],
   "source": [
    "l[8]"
   ]
  },
  {
   "cell_type": "code",
   "execution_count": 16,
   "id": "f944f4c9",
   "metadata": {},
   "outputs": [
    {
     "data": {
      "text/plain": [
       "'3.673'"
      ]
     },
     "execution_count": 16,
     "metadata": {},
     "output_type": "execute_result"
    }
   ],
   "source": [
    "l[len(l)-1]"
   ]
  },
  {
   "cell_type": "code",
   "execution_count": 18,
   "id": "c81b2300",
   "metadata": {},
   "outputs": [
    {
     "data": {
      "text/plain": [
       "(1.1, 12.4, 8, '4.5')"
      ]
     },
     "execution_count": 18,
     "metadata": {},
     "output_type": "execute_result"
    }
   ],
   "source": [
    "l[0],l[1],l[5],l[9]"
   ]
  },
  {
   "cell_type": "markdown",
   "id": "1d95b50d",
   "metadata": {},
   "source": [
    "# slicing"
   ]
  },
  {
   "cell_type": "code",
   "execution_count": 19,
   "id": "b38f2a50",
   "metadata": {},
   "outputs": [
    {
     "data": {
      "text/plain": [
       "[1.1, 12.4, 2, 4, 5, 8, 8.99, 'True', 'False', '4.5', '3.673']"
      ]
     },
     "execution_count": 19,
     "metadata": {},
     "output_type": "execute_result"
    }
   ],
   "source": [
    "l[:]"
   ]
  },
  {
   "cell_type": "code",
   "execution_count": 20,
   "id": "7765a015",
   "metadata": {},
   "outputs": [
    {
     "data": {
      "text/plain": [
       "[1.1, 12.4, 2]"
      ]
     },
     "execution_count": 20,
     "metadata": {},
     "output_type": "execute_result"
    }
   ],
   "source": [
    "l[:3]"
   ]
  },
  {
   "cell_type": "code",
   "execution_count": 21,
   "id": "2050b903",
   "metadata": {},
   "outputs": [
    {
     "data": {
      "text/plain": [
       "[8.99, 'True', 'False', '4.5', '3.673']"
      ]
     },
     "execution_count": 21,
     "metadata": {},
     "output_type": "execute_result"
    }
   ],
   "source": [
    "l[6:]"
   ]
  },
  {
   "cell_type": "code",
   "execution_count": 22,
   "id": "60a8bc70",
   "metadata": {},
   "outputs": [
    {
     "data": {
      "text/plain": [
       "[5, 8, 8.99, 'True', 'False']"
      ]
     },
     "execution_count": 22,
     "metadata": {},
     "output_type": "execute_result"
    }
   ],
   "source": [
    "l[4:9]"
   ]
  },
  {
   "cell_type": "markdown",
   "id": "568f0d48",
   "metadata": {},
   "source": [
    "# reverse"
   ]
  },
  {
   "cell_type": "code",
   "execution_count": 23,
   "id": "567f79ce",
   "metadata": {},
   "outputs": [
    {
     "data": {
      "text/plain": [
       "'False'"
      ]
     },
     "execution_count": 23,
     "metadata": {},
     "output_type": "execute_result"
    }
   ],
   "source": [
    "l[-3]"
   ]
  },
  {
   "cell_type": "code",
   "execution_count": 24,
   "id": "99ea95c2",
   "metadata": {},
   "outputs": [
    {
     "data": {
      "text/plain": [
       "[1.1, 12.4, 2, 4, 5, 8, 8.99, 'True', 'False']"
      ]
     },
     "execution_count": 24,
     "metadata": {},
     "output_type": "execute_result"
    }
   ],
   "source": [
    "l[:-2]"
   ]
  },
  {
   "cell_type": "code",
   "execution_count": 25,
   "id": "ad9071de",
   "metadata": {},
   "outputs": [
    {
     "data": {
      "text/plain": [
       "[8, 8.99, 'True', 'False']"
      ]
     },
     "execution_count": 25,
     "metadata": {},
     "output_type": "execute_result"
    }
   ],
   "source": [
    "l[-6:-2]"
   ]
  },
  {
   "cell_type": "code",
   "execution_count": 26,
   "id": "c0dc1bd2",
   "metadata": {},
   "outputs": [
    {
     "data": {
      "text/plain": [
       "[1.1, 12.4, 2, 4, 5, 8, 8.99, 'True']"
      ]
     },
     "execution_count": 26,
     "metadata": {},
     "output_type": "execute_result"
    }
   ],
   "source": [
    "l[:-3]"
   ]
  },
  {
   "cell_type": "markdown",
   "id": "77892063",
   "metadata": {},
   "source": [
    "# step size"
   ]
  },
  {
   "cell_type": "code",
   "execution_count": 27,
   "id": "1d5742bb",
   "metadata": {},
   "outputs": [
    {
     "data": {
      "text/plain": [
       "[1.1, 12.4, 2, 4, 5, 8, 8.99, 'True', 'False', '4.5', '3.673']"
      ]
     },
     "execution_count": 27,
     "metadata": {},
     "output_type": "execute_result"
    }
   ],
   "source": [
    "l[:]"
   ]
  },
  {
   "cell_type": "code",
   "execution_count": 28,
   "id": "111e637c",
   "metadata": {},
   "outputs": [
    {
     "data": {
      "text/plain": [
       "[1.1, 12.4, 2, 4, 5, 8, 8.99, 'True', 'False', '4.5', '3.673']"
      ]
     },
     "execution_count": 28,
     "metadata": {},
     "output_type": "execute_result"
    }
   ],
   "source": [
    "l[::1]"
   ]
  },
  {
   "cell_type": "code",
   "execution_count": 29,
   "id": "a7cc2d7d",
   "metadata": {},
   "outputs": [
    {
     "data": {
      "text/plain": [
       "[1.1, 2, 5, 8.99, 'False', '3.673']"
      ]
     },
     "execution_count": 29,
     "metadata": {},
     "output_type": "execute_result"
    }
   ],
   "source": [
    "l[::2]"
   ]
  },
  {
   "cell_type": "code",
   "execution_count": 30,
   "id": "26a78e84",
   "metadata": {},
   "outputs": [
    {
     "data": {
      "text/plain": [
       "['3.673', '4.5', 'False', 'True', 8.99, 8, 5, 4, 2, 12.4, 1.1]"
      ]
     },
     "execution_count": 30,
     "metadata": {},
     "output_type": "execute_result"
    }
   ],
   "source": [
    "l[::-1]"
   ]
  },
  {
   "cell_type": "code",
   "execution_count": 31,
   "id": "c63ca525",
   "metadata": {},
   "outputs": [
    {
     "data": {
      "text/plain": [
       "['3.673', 8.99, 2]"
      ]
     },
     "execution_count": 31,
     "metadata": {},
     "output_type": "execute_result"
    }
   ],
   "source": [
    "l[::-4]"
   ]
  },
  {
   "cell_type": "markdown",
   "id": "f88efea7",
   "metadata": {},
   "source": [
    "# mutability"
   ]
  },
  {
   "cell_type": "code",
   "execution_count": 32,
   "id": "a82a8624",
   "metadata": {},
   "outputs": [],
   "source": [
    "l2 =[5.5,6.4,5.7,12,24.5,50,100]"
   ]
  },
  {
   "cell_type": "code",
   "execution_count": 33,
   "id": "d17fd715",
   "metadata": {},
   "outputs": [
    {
     "data": {
      "text/plain": [
       "[5.5, 6.4, 5.7, 12, 24.5, 50, 100]"
      ]
     },
     "execution_count": 33,
     "metadata": {},
     "output_type": "execute_result"
    }
   ],
   "source": [
    "l2"
   ]
  },
  {
   "cell_type": "code",
   "execution_count": 34,
   "id": "90713bbd",
   "metadata": {},
   "outputs": [],
   "source": [
    "l2[0]=6.1"
   ]
  },
  {
   "cell_type": "code",
   "execution_count": 35,
   "id": "5d5460a3",
   "metadata": {},
   "outputs": [
    {
     "data": {
      "text/plain": [
       "[6.1, 6.4, 5.7, 12, 24.5, 50, 100]"
      ]
     },
     "execution_count": 35,
     "metadata": {},
     "output_type": "execute_result"
    }
   ],
   "source": [
    "l2"
   ]
  },
  {
   "cell_type": "markdown",
   "id": "f595afc8",
   "metadata": {},
   "source": [
    "# built in functions"
   ]
  },
  {
   "cell_type": "code",
   "execution_count": 36,
   "id": "94529b0d",
   "metadata": {},
   "outputs": [],
   "source": [
    "l.append(2025)"
   ]
  },
  {
   "cell_type": "code",
   "execution_count": 37,
   "id": "2506edc3",
   "metadata": {},
   "outputs": [
    {
     "data": {
      "text/plain": [
       "[1.1, 12.4, 2, 4, 5, 8, 8.99, 'True', 'False', '4.5', '3.673', 2025]"
      ]
     },
     "execution_count": 37,
     "metadata": {},
     "output_type": "execute_result"
    }
   ],
   "source": [
    "l"
   ]
  },
  {
   "cell_type": "code",
   "execution_count": 38,
   "id": "876dcc82",
   "metadata": {},
   "outputs": [],
   "source": [
    "l2.clear()"
   ]
  },
  {
   "cell_type": "code",
   "execution_count": 39,
   "id": "6b737df2",
   "metadata": {},
   "outputs": [
    {
     "data": {
      "text/plain": [
       "[]"
      ]
     },
     "execution_count": 39,
     "metadata": {},
     "output_type": "execute_result"
    }
   ],
   "source": [
    "l2"
   ]
  },
  {
   "cell_type": "code",
   "execution_count": 40,
   "id": "82b5214c",
   "metadata": {},
   "outputs": [],
   "source": [
    "l2 = l.copy()"
   ]
  },
  {
   "cell_type": "code",
   "execution_count": 41,
   "id": "331bab63",
   "metadata": {},
   "outputs": [
    {
     "data": {
      "text/plain": [
       "[1.1, 12.4, 2, 4, 5, 8, 8.99, 'True', 'False', '4.5', '3.673', 2025]"
      ]
     },
     "execution_count": 41,
     "metadata": {},
     "output_type": "execute_result"
    }
   ],
   "source": [
    "l2"
   ]
  },
  {
   "cell_type": "code",
   "execution_count": 42,
   "id": "c367bccd",
   "metadata": {},
   "outputs": [],
   "source": [
    "l2.append([230,450.55])"
   ]
  },
  {
   "cell_type": "code",
   "execution_count": 43,
   "id": "32f83d22",
   "metadata": {},
   "outputs": [
    {
     "data": {
      "text/plain": [
       "[1.1,\n",
       " 12.4,\n",
       " 2,\n",
       " 4,\n",
       " 5,\n",
       " 8,\n",
       " 8.99,\n",
       " 'True',\n",
       " 'False',\n",
       " '4.5',\n",
       " '3.673',\n",
       " 2025,\n",
       " [230, 450.55]]"
      ]
     },
     "execution_count": 43,
     "metadata": {},
     "output_type": "execute_result"
    }
   ],
   "source": [
    "l2"
   ]
  },
  {
   "cell_type": "code",
   "execution_count": 44,
   "id": "daef5e73",
   "metadata": {},
   "outputs": [
    {
     "data": {
      "text/plain": [
       "[1.1, 12.4, 2, 4, 5, 8, 8.99, 'True', 'False', '4.5', '3.673', 2025]"
      ]
     },
     "execution_count": 44,
     "metadata": {},
     "output_type": "execute_result"
    }
   ],
   "source": [
    "l"
   ]
  },
  {
   "cell_type": "code",
   "execution_count": 45,
   "id": "9ec52bb1",
   "metadata": {},
   "outputs": [],
   "source": [
    "l.extend([230,450.55])"
   ]
  },
  {
   "cell_type": "code",
   "execution_count": 46,
   "id": "2f293470",
   "metadata": {},
   "outputs": [
    {
     "data": {
      "text/plain": [
       "[1.1,\n",
       " 12.4,\n",
       " 2,\n",
       " 4,\n",
       " 5,\n",
       " 8,\n",
       " 8.99,\n",
       " 'True',\n",
       " 'False',\n",
       " '4.5',\n",
       " '3.673',\n",
       " 2025,\n",
       " 230,\n",
       " 450.55]"
      ]
     },
     "execution_count": 46,
     "metadata": {},
     "output_type": "execute_result"
    }
   ],
   "source": [
    "l"
   ]
  },
  {
   "cell_type": "code",
   "execution_count": 47,
   "id": "081eef30",
   "metadata": {},
   "outputs": [
    {
     "data": {
      "text/plain": [
       "11"
      ]
     },
     "execution_count": 47,
     "metadata": {},
     "output_type": "execute_result"
    }
   ],
   "source": [
    "l.index(2025)"
   ]
  },
  {
   "cell_type": "code",
   "execution_count": 48,
   "id": "b14b20d1",
   "metadata": {},
   "outputs": [],
   "source": [
    "l.insert(4,559)"
   ]
  },
  {
   "cell_type": "code",
   "execution_count": 49,
   "id": "b667dbd3",
   "metadata": {},
   "outputs": [
    {
     "data": {
      "text/plain": [
       "[1.1,\n",
       " 12.4,\n",
       " 2,\n",
       " 4,\n",
       " 559,\n",
       " 5,\n",
       " 8,\n",
       " 8.99,\n",
       " 'True',\n",
       " 'False',\n",
       " '4.5',\n",
       " '3.673',\n",
       " 2025,\n",
       " 230,\n",
       " 450.55]"
      ]
     },
     "execution_count": 49,
     "metadata": {},
     "output_type": "execute_result"
    }
   ],
   "source": [
    "l"
   ]
  },
  {
   "cell_type": "code",
   "execution_count": 50,
   "id": "4eb73b65",
   "metadata": {},
   "outputs": [
    {
     "data": {
      "text/plain": [
       "450.55"
      ]
     },
     "execution_count": 50,
     "metadata": {},
     "output_type": "execute_result"
    }
   ],
   "source": [
    "l.pop()"
   ]
  },
  {
   "cell_type": "code",
   "execution_count": 51,
   "id": "7969782d",
   "metadata": {},
   "outputs": [
    {
     "data": {
      "text/plain": [
       "[1.1, 12.4, 2, 4, 559, 5, 8, 8.99, 'True', 'False', '4.5', '3.673', 2025, 230]"
      ]
     },
     "execution_count": 51,
     "metadata": {},
     "output_type": "execute_result"
    }
   ],
   "source": [
    "l"
   ]
  },
  {
   "cell_type": "code",
   "execution_count": 52,
   "id": "fa4b8801",
   "metadata": {},
   "outputs": [],
   "source": [
    "l.remove(8.99)"
   ]
  },
  {
   "cell_type": "code",
   "execution_count": 53,
   "id": "fa7d8984",
   "metadata": {},
   "outputs": [
    {
     "data": {
      "text/plain": [
       "[1.1, 12.4, 2, 4, 559, 5, 8, 'True', 'False', '4.5', '3.673', 2025, 230]"
      ]
     },
     "execution_count": 53,
     "metadata": {},
     "output_type": "execute_result"
    }
   ],
   "source": [
    "l"
   ]
  },
  {
   "cell_type": "code",
   "execution_count": 54,
   "id": "020cb320",
   "metadata": {},
   "outputs": [],
   "source": [
    "l.reverse()"
   ]
  },
  {
   "cell_type": "code",
   "execution_count": 55,
   "id": "dee44052",
   "metadata": {},
   "outputs": [
    {
     "data": {
      "text/plain": [
       "[230, 2025, '3.673', '4.5', 'False', 'True', 8, 5, 559, 4, 2, 12.4, 1.1]"
      ]
     },
     "execution_count": 55,
     "metadata": {},
     "output_type": "execute_result"
    }
   ],
   "source": [
    "l"
   ]
  },
  {
   "cell_type": "code",
   "execution_count": 57,
   "id": "ebb17bd0",
   "metadata": {},
   "outputs": [],
   "source": [
    "l3 = [45.11,5.2,7,9,34,12,2,99,13.57]\n",
    "l3.sort()"
   ]
  },
  {
   "cell_type": "code",
   "execution_count": 58,
   "id": "3155c54b",
   "metadata": {},
   "outputs": [
    {
     "data": {
      "text/plain": [
       "[2, 5.2, 7, 9, 12, 13.57, 34, 45.11, 99]"
      ]
     },
     "execution_count": 58,
     "metadata": {},
     "output_type": "execute_result"
    }
   ],
   "source": [
    "l3"
   ]
  },
  {
   "cell_type": "markdown",
   "id": "121de56c",
   "metadata": {},
   "source": [
    "# nested"
   ]
  },
  {
   "cell_type": "code",
   "execution_count": 59,
   "id": "3a078f97",
   "metadata": {},
   "outputs": [
    {
     "data": {
      "text/plain": [
       "[[2, 5, 6, 7], [9, 1, 4, 6], [0, 4, 1, 6], [7, 6, 7, 9], [1, 0, 0, 5]]"
      ]
     },
     "execution_count": 59,
     "metadata": {},
     "output_type": "execute_result"
    }
   ],
   "source": [
    "l3 = [[2,5,6,7], [9,1,4,6],[0,4,1,6],[7,6,7,9],[1,0,0,5]]\n",
    "l3"
   ]
  },
  {
   "cell_type": "code",
   "execution_count": 60,
   "id": "5a8c62de",
   "metadata": {},
   "outputs": [
    {
     "data": {
      "text/plain": [
       "[2, 5, 6, 7]"
      ]
     },
     "execution_count": 60,
     "metadata": {},
     "output_type": "execute_result"
    }
   ],
   "source": [
    "l3[0]"
   ]
  },
  {
   "cell_type": "code",
   "execution_count": 62,
   "id": "4cebc106",
   "metadata": {},
   "outputs": [
    {
     "data": {
      "text/plain": [
       "7"
      ]
     },
     "execution_count": 62,
     "metadata": {},
     "output_type": "execute_result"
    }
   ],
   "source": [
    "l3[3][2]"
   ]
  },
  {
   "cell_type": "code",
   "execution_count": 63,
   "id": "24ca4042",
   "metadata": {},
   "outputs": [
    {
     "data": {
      "text/plain": [
       "4"
      ]
     },
     "execution_count": 63,
     "metadata": {},
     "output_type": "execute_result"
    }
   ],
   "source": [
    "l3[-3][-3]"
   ]
  },
  {
   "cell_type": "markdown",
   "id": "1e3d6736",
   "metadata": {},
   "source": [
    "# Tuple"
   ]
  },
  {
   "cell_type": "code",
   "execution_count": 64,
   "id": "90a5c467",
   "metadata": {},
   "outputs": [],
   "source": [
    "t = ()"
   ]
  },
  {
   "cell_type": "code",
   "execution_count": 65,
   "id": "4d3655f4",
   "metadata": {},
   "outputs": [
    {
     "data": {
      "text/plain": [
       "tuple"
      ]
     },
     "execution_count": 65,
     "metadata": {},
     "output_type": "execute_result"
    }
   ],
   "source": [
    "type(t)"
   ]
  },
  {
   "cell_type": "code",
   "execution_count": 66,
   "id": "2a545c37",
   "metadata": {},
   "outputs": [],
   "source": [
    "t2 = tuple()"
   ]
  },
  {
   "cell_type": "code",
   "execution_count": 67,
   "id": "07eb3af7",
   "metadata": {},
   "outputs": [
    {
     "data": {
      "text/plain": [
       "tuple"
      ]
     },
     "execution_count": 67,
     "metadata": {},
     "output_type": "execute_result"
    }
   ],
   "source": [
    "type(t2)"
   ]
  },
  {
   "cell_type": "code",
   "execution_count": 68,
   "id": "abf585d4",
   "metadata": {},
   "outputs": [],
   "source": [
    "t = (1,3,8,9,4,6,3,2,3,5,6,4,1,7)"
   ]
  },
  {
   "cell_type": "code",
   "execution_count": 69,
   "id": "fa6009c3",
   "metadata": {},
   "outputs": [
    {
     "data": {
      "text/plain": [
       "(1, 3, 8, 9, 4, 6, 3, 2, 3, 5, 6, 4, 1, 7)"
      ]
     },
     "execution_count": 69,
     "metadata": {},
     "output_type": "execute_result"
    }
   ],
   "source": [
    "t"
   ]
  },
  {
   "cell_type": "code",
   "execution_count": 70,
   "id": "1735b551",
   "metadata": {},
   "outputs": [
    {
     "data": {
      "text/plain": [
       "3"
      ]
     },
     "execution_count": 70,
     "metadata": {},
     "output_type": "execute_result"
    }
   ],
   "source": [
    "t.count(3)"
   ]
  },
  {
   "cell_type": "code",
   "execution_count": 71,
   "id": "8ce5f243",
   "metadata": {},
   "outputs": [
    {
     "data": {
      "text/plain": [
       "7"
      ]
     },
     "execution_count": 71,
     "metadata": {},
     "output_type": "execute_result"
    }
   ],
   "source": [
    "t.index(2)"
   ]
  },
  {
   "cell_type": "code",
   "execution_count": 79,
   "id": "24a6b2e9",
   "metadata": {},
   "outputs": [
    {
     "data": {
      "text/plain": [
       "(1, 3, 8, 9, 4, 6, 3, 2, 3, 5, 6, 4, 1, 7)"
      ]
     },
     "execution_count": 79,
     "metadata": {},
     "output_type": "execute_result"
    }
   ],
   "source": [
    "t"
   ]
  },
  {
   "cell_type": "code",
   "execution_count": 72,
   "id": "4ec7b78f",
   "metadata": {},
   "outputs": [
    {
     "data": {
      "text/plain": [
       "0"
      ]
     },
     "execution_count": 72,
     "metadata": {},
     "output_type": "execute_result"
    }
   ],
   "source": [
    "t.index(1)"
   ]
  },
  {
   "cell_type": "markdown",
   "id": "7132b281",
   "metadata": {},
   "source": [
    "# set"
   ]
  },
  {
   "cell_type": "code",
   "execution_count": 82,
   "id": "2380616c",
   "metadata": {},
   "outputs": [],
   "source": [
    "s = {}\n",
    "s2 = set()"
   ]
  },
  {
   "cell_type": "code",
   "execution_count": 83,
   "id": "04f4d53b",
   "metadata": {},
   "outputs": [
    {
     "data": {
      "text/plain": [
       "(dict, set)"
      ]
     },
     "execution_count": 83,
     "metadata": {},
     "output_type": "execute_result"
    }
   ],
   "source": [
    "type(s), type(s2)"
   ]
  },
  {
   "cell_type": "code",
   "execution_count": 84,
   "id": "d8314d3f",
   "metadata": {},
   "outputs": [],
   "source": [
    "s = {40,20,60,100,50,60,50,100,20,30,90,40,80,70,40,70}\n",
    "s2 ={12,56,67,56,88,12,25,56,78,56,44,78,57,12,22,25,99,46,78,47}\n",
    "s3 ={ 30,10,80,90,100,20,70,50}"
   ]
  },
  {
   "cell_type": "code",
   "execution_count": 135,
   "id": "0cb071e1",
   "metadata": {},
   "outputs": [
    {
     "data": {
      "text/plain": [
       "100"
      ]
     },
     "execution_count": 135,
     "metadata": {},
     "output_type": "execute_result"
    }
   ],
   "source": [
    "s.pop()"
   ]
  },
  {
   "cell_type": "code",
   "execution_count": 123,
   "id": "14128d1f",
   "metadata": {},
   "outputs": [
    {
     "data": {
      "text/plain": [
       "False"
      ]
     },
     "execution_count": 123,
     "metadata": {},
     "output_type": "execute_result"
    }
   ],
   "source": [
    "s3.issubset(s)"
   ]
  },
  {
   "cell_type": "code",
   "execution_count": 124,
   "id": "29e5454f",
   "metadata": {},
   "outputs": [
    {
     "data": {
      "text/plain": [
       "{20, 30, 40, 50, 60, 70, 80, 90, 100}"
      ]
     },
     "execution_count": 124,
     "metadata": {},
     "output_type": "execute_result"
    }
   ],
   "source": [
    "s"
   ]
  },
  {
   "cell_type": "code",
   "execution_count": 85,
   "id": "8e05a4a4",
   "metadata": {},
   "outputs": [
    {
     "data": {
      "text/plain": [
       "set"
      ]
     },
     "execution_count": 85,
     "metadata": {},
     "output_type": "execute_result"
    }
   ],
   "source": [
    "type(s2)"
   ]
  },
  {
   "cell_type": "code",
   "execution_count": 86,
   "id": "c0af6aba",
   "metadata": {},
   "outputs": [
    {
     "data": {
      "text/plain": [
       "{20, 30, 40, 50, 60, 70, 80, 90, 100}"
      ]
     },
     "execution_count": 86,
     "metadata": {},
     "output_type": "execute_result"
    }
   ],
   "source": [
    "s"
   ]
  },
  {
   "cell_type": "code",
   "execution_count": 87,
   "id": "540b4cdc",
   "metadata": {},
   "outputs": [
    {
     "data": {
      "text/plain": [
       "{12, 22, 25, 44, 46, 47, 56, 57, 67, 78, 88, 99}"
      ]
     },
     "execution_count": 87,
     "metadata": {},
     "output_type": "execute_result"
    }
   ],
   "source": [
    "s2"
   ]
  },
  {
   "cell_type": "code",
   "execution_count": 88,
   "id": "ff3369e5",
   "metadata": {},
   "outputs": [
    {
     "data": {
      "text/plain": [
       "{10, 20, 30, 50, 70, 80, 90, 100}"
      ]
     },
     "execution_count": 88,
     "metadata": {},
     "output_type": "execute_result"
    }
   ],
   "source": [
    "s3"
   ]
  },
  {
   "cell_type": "code",
   "execution_count": 90,
   "id": "757c124f",
   "metadata": {},
   "outputs": [],
   "source": [
    "s3.add(60)"
   ]
  },
  {
   "cell_type": "code",
   "execution_count": 91,
   "id": "96879042",
   "metadata": {},
   "outputs": [
    {
     "data": {
      "text/plain": [
       "{10, 20, 30, 50, 60, 70, 80, 90, 100}"
      ]
     },
     "execution_count": 91,
     "metadata": {},
     "output_type": "execute_result"
    }
   ],
   "source": [
    "s3"
   ]
  },
  {
   "cell_type": "code",
   "execution_count": 92,
   "id": "fbabf530",
   "metadata": {},
   "outputs": [],
   "source": [
    "s.clear()"
   ]
  },
  {
   "cell_type": "code",
   "execution_count": 93,
   "id": "b2d23b73",
   "metadata": {},
   "outputs": [
    {
     "data": {
      "text/plain": [
       "set()"
      ]
     },
     "execution_count": 93,
     "metadata": {},
     "output_type": "execute_result"
    }
   ],
   "source": [
    "s"
   ]
  },
  {
   "cell_type": "code",
   "execution_count": 94,
   "id": "9142eb54",
   "metadata": {},
   "outputs": [
    {
     "data": {
      "text/plain": [
       "set()"
      ]
     },
     "execution_count": 94,
     "metadata": {},
     "output_type": "execute_result"
    }
   ],
   "source": [
    "s"
   ]
  },
  {
   "cell_type": "code",
   "execution_count": 95,
   "id": "bd1efaa2",
   "metadata": {},
   "outputs": [],
   "source": [
    "s = {40,20,60,100,50,60,50,100,20,30,90,40,80,70,40,70}"
   ]
  },
  {
   "cell_type": "code",
   "execution_count": 96,
   "id": "7b5533f8",
   "metadata": {},
   "outputs": [
    {
     "data": {
      "text/plain": [
       "{20, 30, 40, 50, 60, 70, 80, 90, 100}"
      ]
     },
     "execution_count": 96,
     "metadata": {},
     "output_type": "execute_result"
    }
   ],
   "source": [
    "s"
   ]
  },
  {
   "cell_type": "code",
   "execution_count": 97,
   "id": "b5c202cd",
   "metadata": {},
   "outputs": [],
   "source": [
    "s4 = s.copy()"
   ]
  },
  {
   "cell_type": "code",
   "execution_count": 98,
   "id": "86a7163c",
   "metadata": {},
   "outputs": [
    {
     "data": {
      "text/plain": [
       "{20, 30, 40, 50, 60, 70, 80, 90, 100}"
      ]
     },
     "execution_count": 98,
     "metadata": {},
     "output_type": "execute_result"
    }
   ],
   "source": [
    "s4"
   ]
  },
  {
   "cell_type": "code",
   "execution_count": 99,
   "id": "1d0b234e",
   "metadata": {},
   "outputs": [
    {
     "data": {
      "text/plain": [
       "{20, 30, 40, 50, 60, 70, 80, 90, 100}"
      ]
     },
     "execution_count": 99,
     "metadata": {},
     "output_type": "execute_result"
    }
   ],
   "source": [
    "s.difference(s2)"
   ]
  },
  {
   "cell_type": "code",
   "execution_count": 100,
   "id": "855603c0",
   "metadata": {},
   "outputs": [
    {
     "data": {
      "text/plain": [
       "{12, 22, 25, 44, 46, 47, 56, 57, 67, 78, 88, 99}"
      ]
     },
     "execution_count": 100,
     "metadata": {},
     "output_type": "execute_result"
    }
   ],
   "source": [
    "s2. difference(s)"
   ]
  },
  {
   "cell_type": "code",
   "execution_count": 101,
   "id": "409fe6be",
   "metadata": {},
   "outputs": [
    {
     "data": {
      "text/plain": [
       "{10}"
      ]
     },
     "execution_count": 101,
     "metadata": {},
     "output_type": "execute_result"
    }
   ],
   "source": [
    "s3.difference(s)"
   ]
  },
  {
   "cell_type": "code",
   "execution_count": 102,
   "id": "0bb1ff49",
   "metadata": {},
   "outputs": [
    {
     "data": {
      "text/plain": [
       "{40}"
      ]
     },
     "execution_count": 102,
     "metadata": {},
     "output_type": "execute_result"
    }
   ],
   "source": [
    "s.difference(s3)"
   ]
  },
  {
   "cell_type": "code",
   "execution_count": 103,
   "id": "8a33e0ce",
   "metadata": {},
   "outputs": [],
   "source": [
    "s.difference_update(s3)"
   ]
  },
  {
   "cell_type": "code",
   "execution_count": 104,
   "id": "5557c9f0",
   "metadata": {},
   "outputs": [
    {
     "data": {
      "text/plain": [
       "{40}"
      ]
     },
     "execution_count": 104,
     "metadata": {},
     "output_type": "execute_result"
    }
   ],
   "source": [
    "s"
   ]
  },
  {
   "cell_type": "code",
   "execution_count": 105,
   "id": "7f687bc3",
   "metadata": {},
   "outputs": [],
   "source": [
    "s3. difference_update(s)"
   ]
  },
  {
   "cell_type": "code",
   "execution_count": 106,
   "id": "3af4e10a",
   "metadata": {},
   "outputs": [
    {
     "data": {
      "text/plain": [
       "{10, 20, 30, 50, 60, 70, 80, 90, 100}"
      ]
     },
     "execution_count": 106,
     "metadata": {},
     "output_type": "execute_result"
    }
   ],
   "source": [
    "s3"
   ]
  },
  {
   "cell_type": "code",
   "execution_count": 108,
   "id": "7d3b018f",
   "metadata": {},
   "outputs": [
    {
     "data": {
      "text/plain": [
       "{40}"
      ]
     },
     "execution_count": 108,
     "metadata": {},
     "output_type": "execute_result"
    }
   ],
   "source": [
    "s"
   ]
  },
  {
   "cell_type": "code",
   "execution_count": 107,
   "id": "1b8317e7",
   "metadata": {},
   "outputs": [
    {
     "data": {
      "text/plain": [
       "set()"
      ]
     },
     "execution_count": 107,
     "metadata": {},
     "output_type": "execute_result"
    }
   ],
   "source": [
    "s.intersection(s3)"
   ]
  },
  {
   "cell_type": "code",
   "execution_count": 109,
   "id": "c77ef49d",
   "metadata": {},
   "outputs": [],
   "source": [
    "s = {40,20,60,100,50,60,50,100,20,30,90,40,80,70,40,70}"
   ]
  },
  {
   "cell_type": "code",
   "execution_count": 110,
   "id": "4e9296c7",
   "metadata": {},
   "outputs": [
    {
     "data": {
      "text/plain": [
       "{20, 30, 40, 50, 60, 70, 80, 90, 100}"
      ]
     },
     "execution_count": 110,
     "metadata": {},
     "output_type": "execute_result"
    }
   ],
   "source": [
    "s"
   ]
  },
  {
   "cell_type": "code",
   "execution_count": 111,
   "id": "4929ca3a",
   "metadata": {},
   "outputs": [
    {
     "data": {
      "text/plain": [
       "{20, 30, 50, 60, 70, 80, 90, 100}"
      ]
     },
     "execution_count": 111,
     "metadata": {},
     "output_type": "execute_result"
    }
   ],
   "source": [
    "s.intersection(s3)"
   ]
  },
  {
   "cell_type": "code",
   "execution_count": 112,
   "id": "6f569a37",
   "metadata": {},
   "outputs": [
    {
     "data": {
      "text/plain": [
       "{20, 30, 50, 60, 70, 80, 90, 100}"
      ]
     },
     "execution_count": 112,
     "metadata": {},
     "output_type": "execute_result"
    }
   ],
   "source": [
    "s3.intersection(s)"
   ]
  },
  {
   "cell_type": "code",
   "execution_count": 113,
   "id": "6f272f5b",
   "metadata": {},
   "outputs": [
    {
     "data": {
      "text/plain": [
       "False"
      ]
     },
     "execution_count": 113,
     "metadata": {},
     "output_type": "execute_result"
    }
   ],
   "source": [
    "s.isdisjoint(s3)"
   ]
  },
  {
   "cell_type": "code",
   "execution_count": 115,
   "id": "7bb1349c",
   "metadata": {},
   "outputs": [
    {
     "data": {
      "text/plain": [
       "False"
      ]
     },
     "execution_count": 115,
     "metadata": {},
     "output_type": "execute_result"
    }
   ],
   "source": [
    "s3.isdisjoint(s)"
   ]
  },
  {
   "cell_type": "code",
   "execution_count": 116,
   "id": "25b93118",
   "metadata": {},
   "outputs": [
    {
     "data": {
      "text/plain": [
       "True"
      ]
     },
     "execution_count": 116,
     "metadata": {},
     "output_type": "execute_result"
    }
   ],
   "source": [
    "s.isdisjoint(s2)"
   ]
  },
  {
   "cell_type": "code",
   "execution_count": 117,
   "id": "4d1700b3",
   "metadata": {},
   "outputs": [
    {
     "data": {
      "text/plain": [
       "True"
      ]
     },
     "execution_count": 117,
     "metadata": {},
     "output_type": "execute_result"
    }
   ],
   "source": [
    "s3.isdisjoint(s2)"
   ]
  },
  {
   "cell_type": "code",
   "execution_count": 118,
   "id": "65738ada",
   "metadata": {},
   "outputs": [
    {
     "data": {
      "text/plain": [
       "False"
      ]
     },
     "execution_count": 118,
     "metadata": {},
     "output_type": "execute_result"
    }
   ],
   "source": [
    "s.issubset(s3)"
   ]
  },
  {
   "cell_type": "code",
   "execution_count": 119,
   "id": "6f581d55",
   "metadata": {},
   "outputs": [
    {
     "data": {
      "text/plain": [
       "False"
      ]
     },
     "execution_count": 119,
     "metadata": {},
     "output_type": "execute_result"
    }
   ],
   "source": [
    "s3.issubset(s2)"
   ]
  },
  {
   "cell_type": "code",
   "execution_count": 120,
   "id": "7811ef5c",
   "metadata": {},
   "outputs": [
    {
     "data": {
      "text/plain": [
       "False"
      ]
     },
     "execution_count": 120,
     "metadata": {},
     "output_type": "execute_result"
    }
   ],
   "source": [
    "s3.issubset(s)"
   ]
  },
  {
   "cell_type": "code",
   "execution_count": 121,
   "id": "8ed2c4ea",
   "metadata": {},
   "outputs": [
    {
     "data": {
      "text/plain": [
       "False"
      ]
     },
     "execution_count": 121,
     "metadata": {},
     "output_type": "execute_result"
    }
   ],
   "source": [
    "s.issubset(s2)"
   ]
  },
  {
   "cell_type": "code",
   "execution_count": 122,
   "id": "46adcccc",
   "metadata": {},
   "outputs": [
    {
     "data": {
      "text/plain": [
       "False"
      ]
     },
     "execution_count": 122,
     "metadata": {},
     "output_type": "execute_result"
    }
   ],
   "source": [
    "s2.issubset(s3)"
   ]
  },
  {
   "cell_type": "code",
   "execution_count": 125,
   "id": "77d123bb",
   "metadata": {},
   "outputs": [],
   "source": [
    "s = {40,20,60,100,50,60,50,100,20,30,90,40,80,70,40,70}\n",
    "s2 ={12,56,67,56,88,12,25,56,78,56,44,78,57,12,22,25,99,46,78,47}\n",
    "s3 ={ 30,10,80,90,100,20,70,50}"
   ]
  },
  {
   "cell_type": "code",
   "execution_count": 126,
   "id": "12501e8b",
   "metadata": {},
   "outputs": [
    {
     "data": {
      "text/plain": [
       "False"
      ]
     },
     "execution_count": 126,
     "metadata": {},
     "output_type": "execute_result"
    }
   ],
   "source": [
    "s.issubset(s3)"
   ]
  },
  {
   "cell_type": "code",
   "execution_count": 127,
   "id": "de5a959f",
   "metadata": {},
   "outputs": [
    {
     "data": {
      "text/plain": [
       "False"
      ]
     },
     "execution_count": 127,
     "metadata": {},
     "output_type": "execute_result"
    }
   ],
   "source": [
    "s3.issubset(s)"
   ]
  },
  {
   "cell_type": "code",
   "execution_count": 128,
   "id": "30391fb7",
   "metadata": {},
   "outputs": [
    {
     "data": {
      "text/plain": [
       "{20, 30, 40, 50, 60, 70, 80, 90, 100}"
      ]
     },
     "execution_count": 128,
     "metadata": {},
     "output_type": "execute_result"
    }
   ],
   "source": [
    "s"
   ]
  },
  {
   "cell_type": "code",
   "execution_count": null,
   "id": "2ae9c1df",
   "metadata": {},
   "outputs": [],
   "source": [
    "s = {40,20,60,100,50,60,50,100,20,30,90,40,80,70,40,70}\n",
    "s2 ={12,56,67,56,88,12,25,56,78,56,44,78,57,12,22,25,99,46,78,47}\n",
    "s3 ={ 30,10,80,90,100,20,70,50}"
   ]
  },
  {
   "cell_type": "code",
   "execution_count": 129,
   "id": "8bd075de",
   "metadata": {},
   "outputs": [
    {
     "data": {
      "text/plain": [
       "{20, 30, 40, 50, 60, 70, 80, 90, 100}"
      ]
     },
     "execution_count": 129,
     "metadata": {},
     "output_type": "execute_result"
    }
   ],
   "source": [
    "s"
   ]
  },
  {
   "cell_type": "code",
   "execution_count": 130,
   "id": "c730153e",
   "metadata": {},
   "outputs": [
    {
     "data": {
      "text/plain": [
       "{12, 22, 25, 44, 46, 47, 56, 57, 67, 78, 88, 99}"
      ]
     },
     "execution_count": 130,
     "metadata": {},
     "output_type": "execute_result"
    }
   ],
   "source": [
    "s2"
   ]
  },
  {
   "cell_type": "code",
   "execution_count": 131,
   "id": "e2056a67",
   "metadata": {},
   "outputs": [
    {
     "data": {
      "text/plain": [
       "{10, 20, 30, 50, 70, 80, 90, 100}"
      ]
     },
     "execution_count": 131,
     "metadata": {},
     "output_type": "execute_result"
    }
   ],
   "source": [
    "s3"
   ]
  },
  {
   "cell_type": "code",
   "execution_count": 132,
   "id": "cc051dd8",
   "metadata": {},
   "outputs": [
    {
     "data": {
      "text/plain": [
       "False"
      ]
     },
     "execution_count": 132,
     "metadata": {},
     "output_type": "execute_result"
    }
   ],
   "source": [
    "s.issuperset(s3)"
   ]
  },
  {
   "cell_type": "code",
   "execution_count": 133,
   "id": "8ab02542",
   "metadata": {},
   "outputs": [
    {
     "data": {
      "text/plain": [
       "{10, 40, 60}"
      ]
     },
     "execution_count": 133,
     "metadata": {},
     "output_type": "execute_result"
    }
   ],
   "source": [
    "s.symmetric_difference(s3)"
   ]
  },
  {
   "cell_type": "code",
   "execution_count": 134,
   "id": "bb5b7079",
   "metadata": {},
   "outputs": [
    {
     "data": {
      "text/plain": [
       "{12,\n",
       " 20,\n",
       " 22,\n",
       " 25,\n",
       " 30,\n",
       " 40,\n",
       " 44,\n",
       " 46,\n",
       " 47,\n",
       " 50,\n",
       " 56,\n",
       " 57,\n",
       " 60,\n",
       " 67,\n",
       " 70,\n",
       " 78,\n",
       " 80,\n",
       " 88,\n",
       " 90,\n",
       " 99,\n",
       " 100}"
      ]
     },
     "execution_count": 134,
     "metadata": {},
     "output_type": "execute_result"
    }
   ],
   "source": [
    "s.symmetric_difference(s2)"
   ]
  },
  {
   "cell_type": "code",
   "execution_count": 136,
   "id": "de5fa609",
   "metadata": {},
   "outputs": [
    {
     "data": {
      "text/plain": [
       "{20, 30, 40, 50, 60, 70, 80, 90}"
      ]
     },
     "execution_count": 136,
     "metadata": {},
     "output_type": "execute_result"
    }
   ],
   "source": [
    "s"
   ]
  },
  {
   "cell_type": "code",
   "execution_count": 137,
   "id": "6ca6c195",
   "metadata": {},
   "outputs": [],
   "source": [
    "s.remove(50)"
   ]
  },
  {
   "cell_type": "code",
   "execution_count": 138,
   "id": "ac4cb0eb",
   "metadata": {},
   "outputs": [
    {
     "data": {
      "text/plain": [
       "{20, 30, 40, 60, 70, 80, 90}"
      ]
     },
     "execution_count": 138,
     "metadata": {},
     "output_type": "execute_result"
    }
   ],
   "source": [
    "s"
   ]
  },
  {
   "cell_type": "code",
   "execution_count": 139,
   "id": "1f7a0729",
   "metadata": {},
   "outputs": [
    {
     "data": {
      "text/plain": [
       "{12, 20, 22, 25, 30, 40, 44, 46, 47, 56, 57, 60, 67, 70, 78, 80, 88, 90, 99}"
      ]
     },
     "execution_count": 139,
     "metadata": {},
     "output_type": "execute_result"
    }
   ],
   "source": [
    "s.union(s2)"
   ]
  },
  {
   "cell_type": "code",
   "execution_count": 140,
   "id": "08be06e5",
   "metadata": {},
   "outputs": [
    {
     "data": {
      "text/plain": [
       "{10,\n",
       " 12,\n",
       " 20,\n",
       " 22,\n",
       " 25,\n",
       " 30,\n",
       " 44,\n",
       " 46,\n",
       " 47,\n",
       " 50,\n",
       " 56,\n",
       " 57,\n",
       " 67,\n",
       " 70,\n",
       " 78,\n",
       " 80,\n",
       " 88,\n",
       " 90,\n",
       " 99,\n",
       " 100}"
      ]
     },
     "execution_count": 140,
     "metadata": {},
     "output_type": "execute_result"
    }
   ],
   "source": [
    "s2.union(s3)"
   ]
  },
  {
   "cell_type": "code",
   "execution_count": 141,
   "id": "5eb6450c",
   "metadata": {},
   "outputs": [],
   "source": [
    "s.update(s3)"
   ]
  },
  {
   "cell_type": "code",
   "execution_count": 142,
   "id": "4dea14c1",
   "metadata": {},
   "outputs": [
    {
     "data": {
      "text/plain": [
       "{10, 20, 30, 40, 50, 60, 70, 80, 90, 100}"
      ]
     },
     "execution_count": 142,
     "metadata": {},
     "output_type": "execute_result"
    }
   ],
   "source": [
    "s"
   ]
  },
  {
   "cell_type": "markdown",
   "id": "3abc91d8",
   "metadata": {},
   "source": [
    "# dictionary"
   ]
  },
  {
   "cell_type": "code",
   "execution_count": 143,
   "id": "58f771fa",
   "metadata": {},
   "outputs": [
    {
     "data": {
      "text/plain": [
       "dict"
      ]
     },
     "execution_count": 143,
     "metadata": {},
     "output_type": "execute_result"
    }
   ],
   "source": [
    "d = {}\n",
    "type(d)"
   ]
  },
  {
   "cell_type": "code",
   "execution_count": 146,
   "id": "c589bf9f",
   "metadata": {},
   "outputs": [],
   "source": [
    "d = {\"key1\": \"value1\",\"key2\": \"value2\",\"key3\": \"value3\",\"key4\": \"value4\",\"key5\": \"value5\",\"key6\": \"value6\",1:35,2:53,3:54,4:77}"
   ]
  },
  {
   "cell_type": "code",
   "execution_count": 147,
   "id": "61ae95b4",
   "metadata": {},
   "outputs": [
    {
     "data": {
      "text/plain": [
       "{'key1': 'value1',\n",
       " 'key2': 'value2',\n",
       " 'key3': 'value3',\n",
       " 'key4': 'value4',\n",
       " 'key5': 'value5',\n",
       " 'key6': 'value6',\n",
       " 1: 35,\n",
       " 2: 53,\n",
       " 3: 54,\n",
       " 4: 77}"
      ]
     },
     "execution_count": 147,
     "metadata": {},
     "output_type": "execute_result"
    }
   ],
   "source": [
    "d"
   ]
  },
  {
   "cell_type": "code",
   "execution_count": 148,
   "id": "d259c412",
   "metadata": {},
   "outputs": [
    {
     "data": {
      "text/plain": [
       "'value3'"
      ]
     },
     "execution_count": 148,
     "metadata": {},
     "output_type": "execute_result"
    }
   ],
   "source": [
    "d[\"key3\"]"
   ]
  },
  {
   "cell_type": "code",
   "execution_count": 149,
   "id": "5027200f",
   "metadata": {},
   "outputs": [
    {
     "data": {
      "text/plain": [
       "77"
      ]
     },
     "execution_count": 149,
     "metadata": {},
     "output_type": "execute_result"
    }
   ],
   "source": [
    "d[4]"
   ]
  },
  {
   "cell_type": "code",
   "execution_count": 151,
   "id": "4b9a1145",
   "metadata": {},
   "outputs": [
    {
     "data": {
      "text/plain": [
       "53"
      ]
     },
     "execution_count": 151,
     "metadata": {},
     "output_type": "execute_result"
    }
   ],
   "source": [
    "d[2]"
   ]
  },
  {
   "cell_type": "code",
   "execution_count": 152,
   "id": "39f08113",
   "metadata": {},
   "outputs": [],
   "source": [
    "d.clear()"
   ]
  },
  {
   "cell_type": "code",
   "execution_count": 153,
   "id": "0dd05820",
   "metadata": {},
   "outputs": [
    {
     "data": {
      "text/plain": [
       "{}"
      ]
     },
     "execution_count": 153,
     "metadata": {},
     "output_type": "execute_result"
    }
   ],
   "source": [
    "d"
   ]
  },
  {
   "cell_type": "code",
   "execution_count": 154,
   "id": "d9ef7c26",
   "metadata": {},
   "outputs": [
    {
     "data": {
      "text/plain": [
       "{}"
      ]
     },
     "execution_count": 154,
     "metadata": {},
     "output_type": "execute_result"
    }
   ],
   "source": [
    "d"
   ]
  },
  {
   "cell_type": "code",
   "execution_count": 155,
   "id": "83d2a75d",
   "metadata": {},
   "outputs": [],
   "source": [
    "d = {\"key1\": \"value1\",\"key2\": \"value2\",\"key3\": \"value3\",\"key4\": \"value4\",\"key5\": \"value5\",\"key6\": \"value6\",1:35,2:53,3:54,4:77}"
   ]
  },
  {
   "cell_type": "code",
   "execution_count": 156,
   "id": "2a690615",
   "metadata": {},
   "outputs": [
    {
     "data": {
      "text/plain": [
       "{'key1': 'value1',\n",
       " 'key2': 'value2',\n",
       " 'key3': 'value3',\n",
       " 'key4': 'value4',\n",
       " 'key5': 'value5',\n",
       " 'key6': 'value6',\n",
       " 1: 35,\n",
       " 2: 53,\n",
       " 3: 54,\n",
       " 4: 77}"
      ]
     },
     "execution_count": 156,
     "metadata": {},
     "output_type": "execute_result"
    }
   ],
   "source": [
    "d"
   ]
  },
  {
   "cell_type": "code",
   "execution_count": 157,
   "id": "e7abbec5",
   "metadata": {},
   "outputs": [],
   "source": [
    "d2 = d.copy()"
   ]
  },
  {
   "cell_type": "code",
   "execution_count": 158,
   "id": "a6ceadd9",
   "metadata": {},
   "outputs": [
    {
     "data": {
      "text/plain": [
       "{'key1': 'value1',\n",
       " 'key2': 'value2',\n",
       " 'key3': 'value3',\n",
       " 'key4': 'value4',\n",
       " 'key5': 'value5',\n",
       " 'key6': 'value6',\n",
       " 1: 35,\n",
       " 2: 53,\n",
       " 3: 54,\n",
       " 4: 77}"
      ]
     },
     "execution_count": 158,
     "metadata": {},
     "output_type": "execute_result"
    }
   ],
   "source": [
    "d2"
   ]
  },
  {
   "cell_type": "code",
   "execution_count": 159,
   "id": "901f23d4",
   "metadata": {},
   "outputs": [
    {
     "data": {
      "text/plain": [
       "{1: [12, 23, 46, 56, 89],\n",
       " 2: [12, 23, 46, 56, 89],\n",
       " 3: [12, 23, 46, 56, 89],\n",
       " 4: [12, 23, 46, 56, 89],\n",
       " 5: [12, 23, 46, 56, 89]}"
      ]
     },
     "execution_count": 159,
     "metadata": {},
     "output_type": "execute_result"
    }
   ],
   "source": [
    "d.fromkeys([1,2,3,4,5],[12,23,46,56,89])"
   ]
  },
  {
   "cell_type": "code",
   "execution_count": 161,
   "id": "8763e728",
   "metadata": {},
   "outputs": [
    {
     "data": {
      "text/plain": [
       "{1: 4, 2: 4, 3: 4, 4: 4, 5: 4}"
      ]
     },
     "execution_count": 161,
     "metadata": {},
     "output_type": "execute_result"
    }
   ],
   "source": [
    "d.fromkeys([1,2,3,4,5],4)"
   ]
  },
  {
   "cell_type": "code",
   "execution_count": 168,
   "id": "e90d9be5",
   "metadata": {},
   "outputs": [
    {
     "data": {
      "text/plain": [
       "{'key1': 'value1',\n",
       " 'key2': 'value2',\n",
       " 'key3': 'value3',\n",
       " 'key4': 'value4',\n",
       " 'key5': 'value5',\n",
       " 'key6': 'value6',\n",
       " 1: 35,\n",
       " 2: 53,\n",
       " 3: 54,\n",
       " 4: 77}"
      ]
     },
     "execution_count": 168,
     "metadata": {},
     "output_type": "execute_result"
    }
   ],
   "source": [
    "d"
   ]
  },
  {
   "cell_type": "code",
   "execution_count": 169,
   "id": "a4c66063",
   "metadata": {},
   "outputs": [
    {
     "data": {
      "text/plain": [
       "'value2'"
      ]
     },
     "execution_count": 169,
     "metadata": {},
     "output_type": "execute_result"
    }
   ],
   "source": [
    "d.get(\"key2\")"
   ]
  },
  {
   "cell_type": "code",
   "execution_count": 170,
   "id": "69ff4c12",
   "metadata": {},
   "outputs": [
    {
     "data": {
      "text/plain": [
       "dict_items([('key1', 'value1'), ('key2', 'value2'), ('key3', 'value3'), ('key4', 'value4'), ('key5', 'value5'), ('key6', 'value6'), (1, 35), (2, 53), (3, 54), (4, 77)])"
      ]
     },
     "execution_count": 170,
     "metadata": {},
     "output_type": "execute_result"
    }
   ],
   "source": [
    "d.items()"
   ]
  },
  {
   "cell_type": "code",
   "execution_count": 171,
   "id": "597d0561",
   "metadata": {},
   "outputs": [
    {
     "name": "stdout",
     "output_type": "stream",
     "text": [
      "key1\n",
      "key2\n",
      "key3\n",
      "key4\n",
      "key5\n",
      "key6\n",
      "1\n",
      "2\n",
      "3\n",
      "4\n"
     ]
    }
   ],
   "source": [
    "for i in d:\n",
    "    print(i)"
   ]
  },
  {
   "cell_type": "code",
   "execution_count": 172,
   "id": "dbbdd1f0",
   "metadata": {},
   "outputs": [
    {
     "name": "stdout",
     "output_type": "stream",
     "text": [
      "key1 value1\n",
      "key2 value2\n",
      "key3 value3\n",
      "key4 value4\n",
      "key5 value5\n",
      "key6 value6\n",
      "1 35\n",
      "2 53\n",
      "3 54\n",
      "4 77\n"
     ]
    }
   ],
   "source": [
    "for i,j in d.items():\n",
    "    print(i,j)"
   ]
  },
  {
   "cell_type": "code",
   "execution_count": 173,
   "id": "85c57958",
   "metadata": {},
   "outputs": [
    {
     "data": {
      "text/plain": [
       "dict_keys(['key1', 'key2', 'key3', 'key4', 'key5', 'key6', 1, 2, 3, 4])"
      ]
     },
     "execution_count": 173,
     "metadata": {},
     "output_type": "execute_result"
    }
   ],
   "source": [
    "d.keys()"
   ]
  },
  {
   "cell_type": "code",
   "execution_count": 174,
   "id": "76a86214",
   "metadata": {},
   "outputs": [
    {
     "data": {
      "text/plain": [
       "dict_values(['value1', 'value2', 'value3', 'value4', 'value5', 'value6', 35, 53, 54, 77])"
      ]
     },
     "execution_count": 174,
     "metadata": {},
     "output_type": "execute_result"
    }
   ],
   "source": [
    "d.values()"
   ]
  },
  {
   "cell_type": "markdown",
   "id": "d1e769ef",
   "metadata": {},
   "source": [
    "# nested dictionary"
   ]
  },
  {
   "cell_type": "code",
   "execution_count": 187,
   "id": "d9e4a280",
   "metadata": {},
   "outputs": [],
   "source": [
    "student = {\n",
    "    \"181-15-1771\":{\n",
    "        \"name\":\"Md.Rakib Al-Amin\",\n",
    "         \"dept\":\"CSE \"\n",
    "    },\n",
    "    \"181-15-2061\":{\n",
    "        \"name\": \"Md.nahid hasan\",\n",
    "         \"dept\":\"CSE \"\n",
    "    }\n",
    "}"
   ]
  },
  {
   "cell_type": "code",
   "execution_count": 189,
   "id": "a7205521",
   "metadata": {},
   "outputs": [
    {
     "name": "stdout",
     "output_type": "stream",
     "text": [
      "181-15-1771 {'name': 'Md.Rakib Al-Amin', 'dept': 'CSE '}\n",
      "181-15-2061 {'name': 'Md.nahid hasan', 'dept': 'CSE '}\n"
     ]
    }
   ],
   "source": [
    "for i, j  in student.items():\n",
    "    print(i,j)"
   ]
  },
  {
   "cell_type": "code",
   "execution_count": 190,
   "id": "df77a8de",
   "metadata": {},
   "outputs": [],
   "source": [
    "student = {\n",
    "    \"181-15-1771\":{\n",
    "        \"name\":\"Md.Rakib Al-Amin\",\n",
    "         \"dept\":\"CSE \"\n",
    "    },\n",
    "    \"181-15-2061\":{\n",
    "        \"name\": \"Md.nahid hasan\",\n",
    "         \"dept\":\"CSE \"\n",
    "    }\n",
    "}"
   ]
  },
  {
   "cell_type": "code",
   "execution_count": 192,
   "id": "6d29ff34",
   "metadata": {},
   "outputs": [
    {
     "name": "stdout",
     "output_type": "stream",
     "text": [
      "181-15-1771\n",
      "name => Md.Rakib Al-Amin\n",
      "dept => CSE \n",
      "181-15-2061\n",
      "name => Md.nahid hasan\n",
      "dept => CSE \n"
     ]
    }
   ],
   "source": [
    "for i, j  in student.items():\n",
    "    print(i)\n",
    "    for key,value in j.items():\n",
    "        print(key,\"=>\",value)"
   ]
  }
 ],
 "metadata": {
  "kernelspec": {
   "display_name": "Python 3 (ipykernel)",
   "language": "python",
   "name": "python3"
  },
  "language_info": {
   "codemirror_mode": {
    "name": "ipython",
    "version": 3
   },
   "file_extension": ".py",
   "mimetype": "text/x-python",
   "name": "python",
   "nbconvert_exporter": "python",
   "pygments_lexer": "ipython3",
   "version": "3.9.7"
  }
 },
 "nbformat": 4,
 "nbformat_minor": 5
}
